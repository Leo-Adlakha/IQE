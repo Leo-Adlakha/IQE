{
 "cells": [
  {
   "cell_type": "code",
   "execution_count": 2,
   "metadata": {},
   "outputs": [],
   "source": [
    "import tensorflow as tf\n",
    "from tensorflow import keras\n",
    "import numpy as np"
   ]
  },
  {
   "cell_type": "code",
   "execution_count": null,
   "metadata": {},
   "outputs": [],
   "source": [
    "def Discriminator(image) :\n",
    "    "
   ]
  },
  {
   "cell_type": "code",
   "execution_count": 14,
   "metadata": {},
   "outputs": [],
   "source": [
    "def conv_layer(input_to_layer, num_filters, kernel_size, stride, padding = 'same', batch_nn = True) :\n",
    "    \n",
    "    stride_array = [1, stride, stride, 1]\n",
    "    filter_init = init_weights_matrix(input_to_layer, num_filters, kernel_size)\n",
    "    bias = tf.Variable(tf.constant(0.01, shape=[num_filters]))\n",
    "    \n",
    "    output = tf.nn.conv2d(input_to_layer, filter_init, stride_array, padding='SAME') + bias\n",
    "    output = tf.nn.leaky_relu(output, alpha=0.2)\n",
    "    \n",
    "    if batch_nn :\n",
    "        output = batch_normalization(output)\n",
    "    \n",
    "    return output"
   ]
  },
  {
   "cell_type": "code",
   "execution_count": 13,
   "metadata": {},
   "outputs": [],
   "source": [
    "def init_weights_matrix(input_to_layer, out_channels, kernel_size) :\n",
    "    \n",
    "    _, row, col, in_channels = [i for i in input_to_layer.get_shape()]\n",
    "    kernel_shape = [kernel_size, kernel_size, in_channels, out_channels]\n",
    "    \n",
    "    kernel_init = tf.Variable(tf.random.normal(kernel_shape, stddev=0.01), dtype=tf.dtypes.float32)\n",
    "    return kernel_init"
   ]
  },
  {
   "cell_type": "code",
   "execution_count": 11,
   "metadata": {},
   "outputs": [],
   "source": [
    "def tests() :\n",
    "    assert init_weights_matrix(tf.random.normal((128, 100, 100, 3)), 128, 5).shape == tf.TensorShape([5, 5, 3, 128])\n",
    "    print(\"All Passed\")"
   ]
  },
  {
   "cell_type": "code",
   "execution_count": 12,
   "metadata": {},
   "outputs": [
    {
     "name": "stdout",
     "output_type": "stream",
     "text": [
      "All Passed\n"
     ]
    }
   ],
   "source": [
    "tests()"
   ]
  }
 ],
 "metadata": {
  "kernelspec": {
   "display_name": "Python 3",
   "language": "python",
   "name": "python3"
  },
  "language_info": {
   "codemirror_mode": {
    "name": "ipython",
    "version": 3
   },
   "file_extension": ".py",
   "mimetype": "text/x-python",
   "name": "python",
   "nbconvert_exporter": "python",
   "pygments_lexer": "ipython3",
   "version": "3.7.1"
  }
 },
 "nbformat": 4,
 "nbformat_minor": 4
}
