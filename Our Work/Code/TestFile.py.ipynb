{
 "cells": [
  {
   "cell_type": "code",
   "execution_count": null,
   "metadata": {},
   "outputs": [],
   "source": [
    "def UFO_Dataset_Test() :\n",
    "    X, Y = load_UFO120_Dataset()\n",
    "    assert X.shape == Y.shape\n",
    "    print(\"Success\")"
   ]
  },
  {
   "cell_type": "code",
   "execution_count": null,
   "metadata": {},
   "outputs": [],
   "source": [
    "@Test\n",
    "def Samsung_Dataset_Test() :\n",
    "    X, Y = load_Samsung_Dataset()\n",
    "    assert X.shape == Y.shape\n",
    "    \n",
    "    for i, j in zip(X, Y) :\n",
    "        assert i.shape == (3024, 4032, 3)\n",
    "        assert j.shape == (3024, 4032, 3)    \n",
    "    print(\"Success\")"
   ]
  }
 ],
 "metadata": {
  "kernelspec": {
   "display_name": "Python 3",
   "language": "python",
   "name": "python3"
  },
  "language_info": {
   "codemirror_mode": {
    "name": "ipython",
    "version": 3
   },
   "file_extension": ".py",
   "mimetype": "text/x-python",
   "name": "python",
   "nbconvert_exporter": "python",
   "pygments_lexer": "ipython3",
   "version": "3.7.1"
  }
 },
 "nbformat": 4,
 "nbformat_minor": 4
}
