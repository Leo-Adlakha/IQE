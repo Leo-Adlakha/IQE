{
 "cells": [
  {
   "cell_type": "code",
   "execution_count": 3,
   "metadata": {},
   "outputs": [],
   "source": [
    "import tensorflow as tf\n",
    "from tensorflow import keras\n",
    "import numpy as np"
   ]
  },
  {
   "cell_type": "code",
   "execution_count": 7,
   "metadata": {},
   "outputs": [],
   "source": [
    "def Discriminator(image) :\n",
    "    \n",
    "    conv1 = conv_layer(image, 48, 11, 4, batch_nn=False)\n",
    "    conv2 = conv_layer(conv1, 128, 5, 2)\n",
    "    conv3 = conv_layer(conv2, 192, 3, 1)\n",
    "    conv4 = conv_layer(conv3, 192, 3, 1)\n",
    "    conv5 = conv_layer(conv4, 128, 3, 2)\n",
    "    \n",
    "    # Flatten\n",
    "    \n",
    "    flat_size = 128 * 7 * 7\n",
    "    conv5_flat = tf.reshape(conv5, [-1, flat_size])\n",
    "    \n",
    "    # FC Layer\n",
    "    \n",
    "    weights_fc = tf.Variable(tf.random.normal([flat_size, 1024], stddev=0.01))\n",
    "    bias_fc = tf.Variable(tf.constant(0.01, shape=[1024]))\n",
    "    fc = tf.nn.leaky_relu(tf.matmul(conv5_flat, weights_fc) + bias_fc, alpha=0.2)\n",
    "    \n",
    "    # FC Layer\n",
    "    weights_out = tf.Variable(tf.random.normal([1024, 2], stddev=0.01))\n",
    "    bias_out = tf.Variable(tf.constant(0.01, shape=[2]))\n",
    "    \n",
    "    output = tf.nn.softmax(tf.matmul(fc, weights_out)+bias_out)\n",
    "\n",
    "    return output"
   ]
  },
  {
   "cell_type": "code",
   "execution_count": 4,
   "metadata": {},
   "outputs": [],
   "source": [
    "def conv_layer(input_to_layer, num_filters, kernel_size, stride, padding = 'same', batch_nn = True) :\n",
    "    \n",
    "    stride_array = [1, stride, stride, 1]\n",
    "    filter_init = init_weights_matrix(input_to_layer, num_filters, kernel_size)\n",
    "    bias = tf.Variable(tf.constant(0.01, shape=[num_filters]))\n",
    "    \n",
    "    output = tf.nn.conv2d(input_to_layer, filter_init, stride_array, padding='SAME') + bias\n",
    "    output = tf.nn.leaky_relu(output, alpha=0.2)\n",
    "    \n",
    "    if batch_nn :\n",
    "        output = batch_normalization(output)\n",
    "    \n",
    "    return output"
   ]
  },
  {
   "cell_type": "code",
   "execution_count": 5,
   "metadata": {},
   "outputs": [],
   "source": [
    "def init_weights_matrix(input_to_layer, out_channels, kernel_size) :\n",
    "    \n",
    "    _, row, col, in_channels = [i for i in input_to_layer.get_shape()]\n",
    "    kernel_shape = [kernel_size, kernel_size, in_channels, out_channels]\n",
    "    \n",
    "    kernel_init = tf.Variable(tf.random.normal(kernel_shape, stddev=0.01), dtype=tf.dtypes.float32)\n",
    "    return kernel_init"
   ]
  },
  {
   "cell_type": "code",
   "execution_count": 6,
   "metadata": {},
   "outputs": [],
   "source": [
    "def BatchNormalization(input_to_layer) :\n",
    "    batch_size, rows, cols, channels = [i for i in input_to_layer.get_shape()]\n",
    "    \n",
    "    mean, variance = tf.nn.moments(input_to_layer, [1,2], keepdims=True)\n",
    "    shift = tf.Variable(tf.zeros([channels]))\n",
    "    scale = tf.Variable(tf.ones([channels]))\n",
    "    \n",
    "    epsilon = 1e-3\n",
    "    normalized = ( input_to_layer - mean ) / ( ( variance + epsilon ) ** ( 0.5 ))\n",
    "    \n",
    "    return scale * normalized + shift"
   ]
  },
  {
   "cell_type": "code",
   "execution_count": 11,
   "metadata": {},
   "outputs": [],
   "source": [
    "def tests() :\n",
    "    assert init_weights_matrix(tf.random.normal((128, 100, 100, 3)), 128, 5).shape == tf.TensorShape([5, 5, 3, 128])\n",
    "    print(\"All Passed\")"
   ]
  },
  {
   "cell_type": "code",
   "execution_count": 12,
   "metadata": {},
   "outputs": [
    {
     "name": "stdout",
     "output_type": "stream",
     "text": [
      "All Passed\n"
     ]
    }
   ],
   "source": [
    "tests()"
   ]
  },
  {
   "cell_type": "code",
   "execution_count": 8,
   "metadata": {},
   "outputs": [],
   "source": [
    "def weights_init(shape, name) :\n",
    "    return tf.Variable(tf.random.normal(shape, stddev=0.01), name=name)"
   ]
  },
  {
   "cell_type": "code",
   "execution_count": 9,
   "metadata": {},
   "outputs": [],
   "source": [
    "def bias_init(shape, name) :\n",
    "    return tf.Variable(tf.constant(0.01, shape), name=name)"
   ]
  },
  {
   "cell_type": "code",
   "execution_count": 10,
   "metadata": {},
   "outputs": [],
   "source": [
    "def conv2d(x, W, B) :\n",
    "    return tf.nn.conv2d(x, W, strides=[1,1,1,1], padding='SAME')+B"
   ]
  },
  {
   "cell_type": "code",
   "execution_count": 13,
   "metadata": {},
   "outputs": [],
   "source": [
    "def Residual_Block(input_to_layer, residual_layer_no) :\n",
    "    \n",
    "    W1 = weights_init([3,3,64,64], name=\"W\"+str(residual_layer_no*2))\n",
    "    B1 = bias_init([64], name=\"B\"+str(residual_layer_no*2))\n",
    "    C1 = tf.nn.relu(BatchNormalization(conv2d(input_to_layer, W1, B1)))\n",
    "    \n",
    "    W2 = weights_init([3,3,64,64], name=\"W\"+str(residual_layer_no*2+1))\n",
    "    B2 = bias_init([64], name=\"B\"+str(residual_layer_no*2+1))\n",
    "    C2 = tf.nn.relu(BatchNormalization(conv2d(C1, W2, B2))) + input_to_layer\n",
    "    \n",
    "    return C2"
   ]
  },
  {
   "cell_type": "code",
   "execution_count": 14,
   "metadata": {},
   "outputs": [],
   "source": [
    "def Generator(input_image) :\n",
    "    \n",
    "    # Convolution Layer\n",
    "    W1 = weights_init([9, 9, 3, 64], name='W1')\n",
    "    B1 = bias_init([64], name=\"B1\")\n",
    "    C1 = tf.nn.relu(conv2d(input_image, W1, B1))\n",
    "    \n",
    "    # Residual Block * 4\n",
    "    C3 = Residual_Block(C1, 1)\n",
    "    C5 = Residual_Block(C3, 2)\n",
    "    C7 = Residual_Block(C5, 3)\n",
    "    C9 = Residual_Block(C7, 4)\n",
    "    \n",
    "    # Convolution Layer * 2\n",
    "    W10 = weights_init([3,3,64,64], name='W10')\n",
    "    B10 = bias_init([64], name=\"B10\")\n",
    "    C10 = tf.nn.relu(conv2d(C9, W10, B10))\n",
    "    \n",
    "    W11 = weights_init([3,3,64,64], name='W11')\n",
    "    B11 = bias_init([64], name=\"B11\")\n",
    "    C11 = tf.nn.relu(conv2d(C10, W11, B11))\n",
    "    \n",
    "    # Final Layer\n",
    "    W12 = weights_init([9, 9, 64, 3], name=\"W12\")\n",
    "    B12 = bias_init([3], name=\"B12\")\n",
    "    C12 = tf.nn.tanh(conv2d(C11, W12, B12)) * 0.58 + 0.5\n",
    "    \n",
    "    return C12"
   ]
  }
 ],
 "metadata": {
  "kernelspec": {
   "display_name": "Python 3",
   "language": "python",
   "name": "python3"
  },
  "language_info": {
   "codemirror_mode": {
    "name": "ipython",
    "version": 3
   },
   "file_extension": ".py",
   "mimetype": "text/x-python",
   "name": "python",
   "nbconvert_exporter": "python",
   "pygments_lexer": "ipython3",
   "version": "3.7.1"
  }
 },
 "nbformat": 4,
 "nbformat_minor": 4
}
